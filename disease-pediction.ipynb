{
 "cells": [
  {
   "cell_type": "markdown",
   "id": "0e645bee",
   "metadata": {
    "papermill": {
     "duration": 0.010472,
     "end_time": "2023-07-14T05:46:11.103555",
     "exception": false,
     "start_time": "2023-07-14T05:46:11.093083",
     "status": "completed"
    },
    "tags": []
   },
   "source": [
    "## DISEASE PREDICTION"
   ]
  },
  {
   "cell_type": "markdown",
   "id": "fe5cd75a",
   "metadata": {
    "papermill": {
     "duration": 0.010317,
     "end_time": "2023-07-14T05:46:11.123960",
     "exception": false,
     "start_time": "2023-07-14T05:46:11.113643",
     "status": "completed"
    },
    "tags": []
   },
   "source": [
    "#### IMPORT LIBRARIES"
   ]
  },
  {
   "cell_type": "code",
   "execution_count": 27,
   "id": "33701b65",
   "metadata": {
    "execution": {
     "iopub.execute_input": "2023-07-14T05:46:11.145720Z",
     "iopub.status.busy": "2023-07-14T05:46:11.144534Z",
     "iopub.status.idle": "2023-07-14T05:46:12.869768Z",
     "shell.execute_reply": "2023-07-14T05:46:12.868762Z"
    },
    "papermill": {
     "duration": 1.739792,
     "end_time": "2023-07-14T05:46:12.872924",
     "exception": false,
     "start_time": "2023-07-14T05:46:11.133132",
     "status": "completed"
    },
    "tags": []
   },
   "outputs": [],
   "source": [
    "import numpy as np\n",
    "import pandas as pd\n",
    "import joblib\n",
    "import pickle\n",
    "from sklearn.linear_model import LogisticRegression\n",
    "import pandas as pd\n",
    "from sklearn.preprocessing import LabelEncoder\n",
    "import numpy as np\n",
    "from sklearn.tree import DecisionTreeClassifier\n",
    "import pandas as pd\n",
    "from scipy.stats import mode\n",
    "import matplotlib.pyplot as plt\n",
    "import seaborn as sns\n",
    "from sklearn.preprocessing import LabelEncoder\n",
    "from sklearn.model_selection import train_test_split, cross_val_score\n",
    "from sklearn.svm import SVC\n",
    "from sklearn.naive_bayes import GaussianNB\n",
    "from sklearn.ensemble import RandomForestClassifier\n",
    "from sklearn.metrics import accuracy_score, confusion_matrix"
   ]
  },
  {
   "cell_type": "code",
   "execution_count": 28,
   "id": "24ff5267",
   "metadata": {
    "execution": {
     "iopub.execute_input": "2023-07-14T05:46:12.892847Z",
     "iopub.status.busy": "2023-07-14T05:46:12.892381Z",
     "iopub.status.idle": "2023-07-14T05:46:13.019039Z",
     "shell.execute_reply": "2023-07-14T05:46:13.017629Z"
    },
    "papermill": {
     "duration": 0.140433,
     "end_time": "2023-07-14T05:46:13.022379",
     "exception": false,
     "start_time": "2023-07-14T05:46:12.881946",
     "status": "completed"
    },
    "tags": []
   },
   "outputs": [],
   "source": [
    "train=pd.read_csv(\"Training.csv\")\n",
    "test=pd.read_csv(\"Testing.csv\")"
   ]
  },
  {
   "cell_type": "markdown",
   "id": "a062598f",
   "metadata": {
    "papermill": {
     "duration": 0.008886,
     "end_time": "2023-07-14T05:46:13.040583",
     "exception": false,
     "start_time": "2023-07-14T05:46:13.031697",
     "status": "completed"
    },
    "tags": []
   },
   "source": [
    "#### DATASET CHECKING"
   ]
  },
  {
   "cell_type": "code",
   "execution_count": 29,
   "id": "72462f6c",
   "metadata": {
    "execution": {
     "iopub.execute_input": "2023-07-14T05:46:13.061831Z",
     "iopub.status.busy": "2023-07-14T05:46:13.061325Z",
     "iopub.status.idle": "2023-07-14T05:46:13.097538Z",
     "shell.execute_reply": "2023-07-14T05:46:13.096266Z"
    },
    "papermill": {
     "duration": 0.051982,
     "end_time": "2023-07-14T05:46:13.102097",
     "exception": false,
     "start_time": "2023-07-14T05:46:13.050115",
     "status": "completed"
    },
    "tags": []
   },
   "outputs": [
    {
     "data": {
      "text/html": [
       "<div>\n",
       "<style scoped>\n",
       "    .dataframe tbody tr th:only-of-type {\n",
       "        vertical-align: middle;\n",
       "    }\n",
       "\n",
       "    .dataframe tbody tr th {\n",
       "        vertical-align: top;\n",
       "    }\n",
       "\n",
       "    .dataframe thead th {\n",
       "        text-align: right;\n",
       "    }\n",
       "</style>\n",
       "<table border=\"1\" class=\"dataframe\">\n",
       "  <thead>\n",
       "    <tr style=\"text-align: right;\">\n",
       "      <th></th>\n",
       "      <th>itching</th>\n",
       "      <th>skin_rash</th>\n",
       "      <th>nodal_skin_eruptions</th>\n",
       "      <th>continuous_sneezing</th>\n",
       "      <th>shivering</th>\n",
       "      <th>chills</th>\n",
       "      <th>joint_pain</th>\n",
       "      <th>stomach_pain</th>\n",
       "      <th>acidity</th>\n",
       "      <th>ulcers_on_tongue</th>\n",
       "      <th>...</th>\n",
       "      <th>blackheads</th>\n",
       "      <th>scurring</th>\n",
       "      <th>skin_peeling</th>\n",
       "      <th>silver_like_dusting</th>\n",
       "      <th>small_dents_in_nails</th>\n",
       "      <th>inflammatory_nails</th>\n",
       "      <th>blister</th>\n",
       "      <th>red_sore_around_nose</th>\n",
       "      <th>yellow_crust_ooze</th>\n",
       "      <th>prognosis</th>\n",
       "    </tr>\n",
       "  </thead>\n",
       "  <tbody>\n",
       "    <tr>\n",
       "      <th>0</th>\n",
       "      <td>1</td>\n",
       "      <td>1</td>\n",
       "      <td>1</td>\n",
       "      <td>0</td>\n",
       "      <td>0</td>\n",
       "      <td>0</td>\n",
       "      <td>0</td>\n",
       "      <td>0</td>\n",
       "      <td>0</td>\n",
       "      <td>0</td>\n",
       "      <td>...</td>\n",
       "      <td>0</td>\n",
       "      <td>0</td>\n",
       "      <td>0</td>\n",
       "      <td>0</td>\n",
       "      <td>0</td>\n",
       "      <td>0</td>\n",
       "      <td>0</td>\n",
       "      <td>0</td>\n",
       "      <td>0</td>\n",
       "      <td>Fungal infection</td>\n",
       "    </tr>\n",
       "    <tr>\n",
       "      <th>1</th>\n",
       "      <td>0</td>\n",
       "      <td>1</td>\n",
       "      <td>1</td>\n",
       "      <td>0</td>\n",
       "      <td>0</td>\n",
       "      <td>0</td>\n",
       "      <td>0</td>\n",
       "      <td>0</td>\n",
       "      <td>0</td>\n",
       "      <td>0</td>\n",
       "      <td>...</td>\n",
       "      <td>0</td>\n",
       "      <td>0</td>\n",
       "      <td>0</td>\n",
       "      <td>0</td>\n",
       "      <td>0</td>\n",
       "      <td>0</td>\n",
       "      <td>0</td>\n",
       "      <td>0</td>\n",
       "      <td>0</td>\n",
       "      <td>Fungal infection</td>\n",
       "    </tr>\n",
       "    <tr>\n",
       "      <th>2</th>\n",
       "      <td>1</td>\n",
       "      <td>0</td>\n",
       "      <td>1</td>\n",
       "      <td>0</td>\n",
       "      <td>0</td>\n",
       "      <td>0</td>\n",
       "      <td>0</td>\n",
       "      <td>0</td>\n",
       "      <td>0</td>\n",
       "      <td>0</td>\n",
       "      <td>...</td>\n",
       "      <td>0</td>\n",
       "      <td>0</td>\n",
       "      <td>0</td>\n",
       "      <td>0</td>\n",
       "      <td>0</td>\n",
       "      <td>0</td>\n",
       "      <td>0</td>\n",
       "      <td>0</td>\n",
       "      <td>0</td>\n",
       "      <td>Fungal infection</td>\n",
       "    </tr>\n",
       "    <tr>\n",
       "      <th>3</th>\n",
       "      <td>1</td>\n",
       "      <td>1</td>\n",
       "      <td>0</td>\n",
       "      <td>0</td>\n",
       "      <td>0</td>\n",
       "      <td>0</td>\n",
       "      <td>0</td>\n",
       "      <td>0</td>\n",
       "      <td>0</td>\n",
       "      <td>0</td>\n",
       "      <td>...</td>\n",
       "      <td>0</td>\n",
       "      <td>0</td>\n",
       "      <td>0</td>\n",
       "      <td>0</td>\n",
       "      <td>0</td>\n",
       "      <td>0</td>\n",
       "      <td>0</td>\n",
       "      <td>0</td>\n",
       "      <td>0</td>\n",
       "      <td>Fungal infection</td>\n",
       "    </tr>\n",
       "    <tr>\n",
       "      <th>4</th>\n",
       "      <td>1</td>\n",
       "      <td>1</td>\n",
       "      <td>1</td>\n",
       "      <td>0</td>\n",
       "      <td>0</td>\n",
       "      <td>0</td>\n",
       "      <td>0</td>\n",
       "      <td>0</td>\n",
       "      <td>0</td>\n",
       "      <td>0</td>\n",
       "      <td>...</td>\n",
       "      <td>0</td>\n",
       "      <td>0</td>\n",
       "      <td>0</td>\n",
       "      <td>0</td>\n",
       "      <td>0</td>\n",
       "      <td>0</td>\n",
       "      <td>0</td>\n",
       "      <td>0</td>\n",
       "      <td>0</td>\n",
       "      <td>Fungal infection</td>\n",
       "    </tr>\n",
       "  </tbody>\n",
       "</table>\n",
       "<p>5 rows × 133 columns</p>\n",
       "</div>"
      ],
      "text/plain": [
       "   itching  skin_rash  nodal_skin_eruptions  continuous_sneezing  shivering  \\\n",
       "0        1          1                     1                    0          0   \n",
       "1        0          1                     1                    0          0   \n",
       "2        1          0                     1                    0          0   \n",
       "3        1          1                     0                    0          0   \n",
       "4        1          1                     1                    0          0   \n",
       "\n",
       "   chills  joint_pain  stomach_pain  acidity  ulcers_on_tongue  ...  \\\n",
       "0       0           0             0        0                 0  ...   \n",
       "1       0           0             0        0                 0  ...   \n",
       "2       0           0             0        0                 0  ...   \n",
       "3       0           0             0        0                 0  ...   \n",
       "4       0           0             0        0                 0  ...   \n",
       "\n",
       "   blackheads  scurring  skin_peeling  silver_like_dusting  \\\n",
       "0           0         0             0                    0   \n",
       "1           0         0             0                    0   \n",
       "2           0         0             0                    0   \n",
       "3           0         0             0                    0   \n",
       "4           0         0             0                    0   \n",
       "\n",
       "   small_dents_in_nails  inflammatory_nails  blister  red_sore_around_nose  \\\n",
       "0                     0                   0        0                     0   \n",
       "1                     0                   0        0                     0   \n",
       "2                     0                   0        0                     0   \n",
       "3                     0                   0        0                     0   \n",
       "4                     0                   0        0                     0   \n",
       "\n",
       "   yellow_crust_ooze         prognosis  \n",
       "0                  0  Fungal infection  \n",
       "1                  0  Fungal infection  \n",
       "2                  0  Fungal infection  \n",
       "3                  0  Fungal infection  \n",
       "4                  0  Fungal infection  \n",
       "\n",
       "[5 rows x 133 columns]"
      ]
     },
     "execution_count": 29,
     "metadata": {},
     "output_type": "execute_result"
    }
   ],
   "source": [
    "train.head()"
   ]
  },
  {
   "cell_type": "code",
   "execution_count": 30,
   "id": "7e1c1de7",
   "metadata": {
    "execution": {
     "iopub.execute_input": "2023-07-14T05:46:13.123808Z",
     "iopub.status.busy": "2023-07-14T05:46:13.123362Z",
     "iopub.status.idle": "2023-07-14T05:46:13.131533Z",
     "shell.execute_reply": "2023-07-14T05:46:13.130349Z"
    },
    "papermill": {
     "duration": 0.022154,
     "end_time": "2023-07-14T05:46:13.134278",
     "exception": false,
     "start_time": "2023-07-14T05:46:13.112124",
     "status": "completed"
    },
    "tags": []
   },
   "outputs": [
    {
     "name": "stdout",
     "output_type": "stream",
     "text": [
      "['itching', 'skin_rash', 'nodal_skin_eruptions', 'continuous_sneezing', 'shivering', 'chills', 'joint_pain', 'stomach_pain', 'acidity', 'ulcers_on_tongue', 'muscle_wasting', 'vomiting', 'burning_micturition', 'spotting_ urination', 'fatigue', 'weight_gain', 'anxiety', 'cold_hands_and_feets', 'mood_swings', 'weight_loss', 'restlessness', 'lethargy', 'patches_in_throat', 'irregular_sugar_level', 'cough', 'high_fever', 'sunken_eyes', 'breathlessness', 'sweating', 'dehydration', 'indigestion', 'headache', 'yellowish_skin', 'dark_urine', 'nausea', 'loss_of_appetite', 'pain_behind_the_eyes', 'back_pain', 'constipation', 'abdominal_pain', 'diarrhoea', 'mild_fever', 'yellow_urine', 'yellowing_of_eyes', 'acute_liver_failure', 'fluid_overload', 'swelling_of_stomach', 'swelled_lymph_nodes', 'malaise', 'blurred_and_distorted_vision', 'phlegm', 'throat_irritation', 'redness_of_eyes', 'sinus_pressure', 'runny_nose', 'congestion', 'chest_pain', 'weakness_in_limbs', 'fast_heart_rate', 'pain_during_bowel_movements', 'pain_in_anal_region', 'bloody_stool', 'irritation_in_anus', 'neck_pain', 'dizziness', 'cramps', 'bruising', 'obesity', 'swollen_legs', 'swollen_blood_vessels', 'puffy_face_and_eyes', 'enlarged_thyroid', 'brittle_nails', 'swollen_extremeties', 'excessive_hunger', 'extra_marital_contacts', 'drying_and_tingling_lips', 'slurred_speech', 'knee_pain', 'hip_joint_pain', 'muscle_weakness', 'stiff_neck', 'swelling_joints', 'movement_stiffness', 'spinning_movements', 'loss_of_balance', 'unsteadiness', 'weakness_of_one_body_side', 'loss_of_smell', 'bladder_discomfort', 'foul_smell_of urine', 'continuous_feel_of_urine', 'passage_of_gases', 'internal_itching', 'toxic_look_(typhos)', 'depression', 'irritability', 'muscle_pain', 'altered_sensorium', 'red_spots_over_body', 'belly_pain', 'abnormal_menstruation', 'dischromic _patches', 'watering_from_eyes', 'increased_appetite', 'polyuria', 'family_history', 'mucoid_sputum', 'rusty_sputum', 'lack_of_concentration', 'visual_disturbances', 'receiving_blood_transfusion', 'receiving_unsterile_injections', 'coma', 'stomach_bleeding', 'distention_of_abdomen', 'history_of_alcohol_consumption', 'fluid_overload.1', 'blood_in_sputum', 'prominent_veins_on_calf', 'palpitations', 'painful_walking', 'pus_filled_pimples', 'blackheads', 'scurring', 'skin_peeling', 'silver_like_dusting', 'small_dents_in_nails', 'inflammatory_nails', 'blister', 'red_sore_around_nose', 'yellow_crust_ooze', 'prognosis']\n"
     ]
    }
   ],
   "source": [
    "col=test.columns.to_list()\n",
    "print(col)"
   ]
  },
  {
   "cell_type": "code",
   "execution_count": 31,
   "id": "3cccb698",
   "metadata": {
    "execution": {
     "iopub.execute_input": "2023-07-14T05:46:13.157363Z",
     "iopub.status.busy": "2023-07-14T05:46:13.156921Z",
     "iopub.status.idle": "2023-07-14T05:46:13.180502Z",
     "shell.execute_reply": "2023-07-14T05:46:13.178995Z"
    },
    "papermill": {
     "duration": 0.038789,
     "end_time": "2023-07-14T05:46:13.183196",
     "exception": false,
     "start_time": "2023-07-14T05:46:13.144407",
     "status": "completed"
    },
    "tags": []
   },
   "outputs": [
    {
     "data": {
      "text/html": [
       "<div>\n",
       "<style scoped>\n",
       "    .dataframe tbody tr th:only-of-type {\n",
       "        vertical-align: middle;\n",
       "    }\n",
       "\n",
       "    .dataframe tbody tr th {\n",
       "        vertical-align: top;\n",
       "    }\n",
       "\n",
       "    .dataframe thead th {\n",
       "        text-align: right;\n",
       "    }\n",
       "</style>\n",
       "<table border=\"1\" class=\"dataframe\">\n",
       "  <thead>\n",
       "    <tr style=\"text-align: right;\">\n",
       "      <th></th>\n",
       "      <th>itching</th>\n",
       "      <th>skin_rash</th>\n",
       "      <th>nodal_skin_eruptions</th>\n",
       "      <th>continuous_sneezing</th>\n",
       "      <th>shivering</th>\n",
       "      <th>chills</th>\n",
       "      <th>joint_pain</th>\n",
       "      <th>stomach_pain</th>\n",
       "      <th>acidity</th>\n",
       "      <th>ulcers_on_tongue</th>\n",
       "      <th>...</th>\n",
       "      <th>blackheads</th>\n",
       "      <th>scurring</th>\n",
       "      <th>skin_peeling</th>\n",
       "      <th>silver_like_dusting</th>\n",
       "      <th>small_dents_in_nails</th>\n",
       "      <th>inflammatory_nails</th>\n",
       "      <th>blister</th>\n",
       "      <th>red_sore_around_nose</th>\n",
       "      <th>yellow_crust_ooze</th>\n",
       "      <th>prognosis</th>\n",
       "    </tr>\n",
       "  </thead>\n",
       "  <tbody>\n",
       "    <tr>\n",
       "      <th>0</th>\n",
       "      <td>1</td>\n",
       "      <td>1</td>\n",
       "      <td>1</td>\n",
       "      <td>0</td>\n",
       "      <td>0</td>\n",
       "      <td>0</td>\n",
       "      <td>0</td>\n",
       "      <td>0</td>\n",
       "      <td>0</td>\n",
       "      <td>0</td>\n",
       "      <td>...</td>\n",
       "      <td>0</td>\n",
       "      <td>0</td>\n",
       "      <td>0</td>\n",
       "      <td>0</td>\n",
       "      <td>0</td>\n",
       "      <td>0</td>\n",
       "      <td>0</td>\n",
       "      <td>0</td>\n",
       "      <td>0</td>\n",
       "      <td>Fungal infection</td>\n",
       "    </tr>\n",
       "    <tr>\n",
       "      <th>1</th>\n",
       "      <td>0</td>\n",
       "      <td>0</td>\n",
       "      <td>0</td>\n",
       "      <td>1</td>\n",
       "      <td>1</td>\n",
       "      <td>1</td>\n",
       "      <td>0</td>\n",
       "      <td>0</td>\n",
       "      <td>0</td>\n",
       "      <td>0</td>\n",
       "      <td>...</td>\n",
       "      <td>0</td>\n",
       "      <td>0</td>\n",
       "      <td>0</td>\n",
       "      <td>0</td>\n",
       "      <td>0</td>\n",
       "      <td>0</td>\n",
       "      <td>0</td>\n",
       "      <td>0</td>\n",
       "      <td>0</td>\n",
       "      <td>Allergy</td>\n",
       "    </tr>\n",
       "    <tr>\n",
       "      <th>2</th>\n",
       "      <td>0</td>\n",
       "      <td>0</td>\n",
       "      <td>0</td>\n",
       "      <td>0</td>\n",
       "      <td>0</td>\n",
       "      <td>0</td>\n",
       "      <td>0</td>\n",
       "      <td>1</td>\n",
       "      <td>1</td>\n",
       "      <td>1</td>\n",
       "      <td>...</td>\n",
       "      <td>0</td>\n",
       "      <td>0</td>\n",
       "      <td>0</td>\n",
       "      <td>0</td>\n",
       "      <td>0</td>\n",
       "      <td>0</td>\n",
       "      <td>0</td>\n",
       "      <td>0</td>\n",
       "      <td>0</td>\n",
       "      <td>GERD</td>\n",
       "    </tr>\n",
       "    <tr>\n",
       "      <th>3</th>\n",
       "      <td>1</td>\n",
       "      <td>0</td>\n",
       "      <td>0</td>\n",
       "      <td>0</td>\n",
       "      <td>0</td>\n",
       "      <td>0</td>\n",
       "      <td>0</td>\n",
       "      <td>0</td>\n",
       "      <td>0</td>\n",
       "      <td>0</td>\n",
       "      <td>...</td>\n",
       "      <td>0</td>\n",
       "      <td>0</td>\n",
       "      <td>0</td>\n",
       "      <td>0</td>\n",
       "      <td>0</td>\n",
       "      <td>0</td>\n",
       "      <td>0</td>\n",
       "      <td>0</td>\n",
       "      <td>0</td>\n",
       "      <td>Chronic cholestasis</td>\n",
       "    </tr>\n",
       "    <tr>\n",
       "      <th>4</th>\n",
       "      <td>1</td>\n",
       "      <td>1</td>\n",
       "      <td>0</td>\n",
       "      <td>0</td>\n",
       "      <td>0</td>\n",
       "      <td>0</td>\n",
       "      <td>0</td>\n",
       "      <td>1</td>\n",
       "      <td>0</td>\n",
       "      <td>0</td>\n",
       "      <td>...</td>\n",
       "      <td>0</td>\n",
       "      <td>0</td>\n",
       "      <td>0</td>\n",
       "      <td>0</td>\n",
       "      <td>0</td>\n",
       "      <td>0</td>\n",
       "      <td>0</td>\n",
       "      <td>0</td>\n",
       "      <td>0</td>\n",
       "      <td>Drug Reaction</td>\n",
       "    </tr>\n",
       "  </tbody>\n",
       "</table>\n",
       "<p>5 rows × 133 columns</p>\n",
       "</div>"
      ],
      "text/plain": [
       "   itching  skin_rash  nodal_skin_eruptions  continuous_sneezing  shivering  \\\n",
       "0        1          1                     1                    0          0   \n",
       "1        0          0                     0                    1          1   \n",
       "2        0          0                     0                    0          0   \n",
       "3        1          0                     0                    0          0   \n",
       "4        1          1                     0                    0          0   \n",
       "\n",
       "   chills  joint_pain  stomach_pain  acidity  ulcers_on_tongue  ...  \\\n",
       "0       0           0             0        0                 0  ...   \n",
       "1       1           0             0        0                 0  ...   \n",
       "2       0           0             1        1                 1  ...   \n",
       "3       0           0             0        0                 0  ...   \n",
       "4       0           0             1        0                 0  ...   \n",
       "\n",
       "   blackheads  scurring  skin_peeling  silver_like_dusting  \\\n",
       "0           0         0             0                    0   \n",
       "1           0         0             0                    0   \n",
       "2           0         0             0                    0   \n",
       "3           0         0             0                    0   \n",
       "4           0         0             0                    0   \n",
       "\n",
       "   small_dents_in_nails  inflammatory_nails  blister  red_sore_around_nose  \\\n",
       "0                     0                   0        0                     0   \n",
       "1                     0                   0        0                     0   \n",
       "2                     0                   0        0                     0   \n",
       "3                     0                   0        0                     0   \n",
       "4                     0                   0        0                     0   \n",
       "\n",
       "   yellow_crust_ooze            prognosis  \n",
       "0                  0     Fungal infection  \n",
       "1                  0              Allergy  \n",
       "2                  0                 GERD  \n",
       "3                  0  Chronic cholestasis  \n",
       "4                  0        Drug Reaction  \n",
       "\n",
       "[5 rows x 133 columns]"
      ]
     },
     "execution_count": 31,
     "metadata": {},
     "output_type": "execute_result"
    }
   ],
   "source": [
    "test.head()"
   ]
  },
  {
   "cell_type": "markdown",
   "id": "80fdbfab",
   "metadata": {
    "papermill": {
     "duration": 0.009588,
     "end_time": "2023-07-14T05:46:13.202792",
     "exception": false,
     "start_time": "2023-07-14T05:46:13.193204",
     "status": "completed"
    },
    "tags": []
   },
   "source": [
    "#### DROP UNWANTED COLUMN"
   ]
  },
  {
   "cell_type": "code",
   "execution_count": null,
   "id": "4b56dffb",
   "metadata": {
    "papermill": {
     "duration": 0.009462,
     "end_time": "2023-07-14T05:46:13.258586",
     "exception": false,
     "start_time": "2023-07-14T05:46:13.249124",
     "status": "completed"
    },
    "tags": []
   },
   "outputs": [],
   "source": []
  },
  {
   "cell_type": "code",
   "execution_count": 32,
   "id": "2d38b770",
   "metadata": {
    "execution": {
     "iopub.execute_input": "2023-07-14T05:46:13.280232Z",
     "iopub.status.busy": "2023-07-14T05:46:13.279776Z",
     "iopub.status.idle": "2023-07-14T05:46:13.295120Z",
     "shell.execute_reply": "2023-07-14T05:46:13.293761Z"
    },
    "papermill": {
     "duration": 0.02961,
     "end_time": "2023-07-14T05:46:13.298170",
     "exception": false,
     "start_time": "2023-07-14T05:46:13.268560",
     "status": "completed"
    },
    "tags": []
   },
   "outputs": [
    {
     "data": {
      "text/plain": [
       "Fungal infection                           120\n",
       "Hepatitis C                                120\n",
       "Hepatitis E                                120\n",
       "Alcoholic hepatitis                        120\n",
       "Tuberculosis                               120\n",
       "Common Cold                                120\n",
       "Pneumonia                                  120\n",
       "Dimorphic hemmorhoids(piles)               120\n",
       "Heart attack                               120\n",
       "Varicose veins                             120\n",
       "Hypothyroidism                             120\n",
       "Hyperthyroidism                            120\n",
       "Hypoglycemia                               120\n",
       "Osteoarthristis                            120\n",
       "Arthritis                                  120\n",
       "(vertigo) Paroymsal  Positional Vertigo    120\n",
       "Acne                                       120\n",
       "Urinary tract infection                    120\n",
       "Psoriasis                                  120\n",
       "Hepatitis D                                120\n",
       "Hepatitis B                                120\n",
       "Allergy                                    120\n",
       "hepatitis A                                120\n",
       "GERD                                       120\n",
       "Chronic cholestasis                        120\n",
       "Drug Reaction                              120\n",
       "Peptic ulcer diseae                        120\n",
       "AIDS                                       120\n",
       "Diabetes                                   120\n",
       "Gastroenteritis                            120\n",
       "Bronchial Asthma                           120\n",
       "Hypertension                               120\n",
       "Migraine                                   120\n",
       "Cervical spondylosis                       120\n",
       "Paralysis (brain hemorrhage)               120\n",
       "Jaundice                                   120\n",
       "Malaria                                    120\n",
       "Chicken pox                                120\n",
       "Dengue                                     120\n",
       "Typhoid                                    120\n",
       "Impetigo                                   120\n",
       "Name: prognosis, dtype: int64"
      ]
     },
     "execution_count": 32,
     "metadata": {},
     "output_type": "execute_result"
    }
   ],
   "source": [
    "train.prognosis.value_counts()"
   ]
  },
  {
   "cell_type": "code",
   "execution_count": 33,
   "id": "5c7bb8ef",
   "metadata": {
    "execution": {
     "iopub.execute_input": "2023-07-14T05:46:13.320849Z",
     "iopub.status.busy": "2023-07-14T05:46:13.320381Z",
     "iopub.status.idle": "2023-07-14T05:46:13.333290Z",
     "shell.execute_reply": "2023-07-14T05:46:13.332249Z"
    },
    "papermill": {
     "duration": 0.027267,
     "end_time": "2023-07-14T05:46:13.335929",
     "exception": false,
     "start_time": "2023-07-14T05:46:13.308662",
     "status": "completed"
    },
    "tags": []
   },
   "outputs": [
    {
     "data": {
      "text/plain": [
       "itching                 0\n",
       "skin_rash               0\n",
       "nodal_skin_eruptions    0\n",
       "continuous_sneezing     0\n",
       "shivering               0\n",
       "                       ..\n",
       "inflammatory_nails      0\n",
       "blister                 0\n",
       "red_sore_around_nose    0\n",
       "yellow_crust_ooze       0\n",
       "prognosis               0\n",
       "Length: 133, dtype: int64"
      ]
     },
     "execution_count": 33,
     "metadata": {},
     "output_type": "execute_result"
    }
   ],
   "source": [
    "train.isna().sum()"
   ]
  },
  {
   "cell_type": "code",
   "execution_count": 34,
   "id": "1c314f5a",
   "metadata": {
    "execution": {
     "iopub.execute_input": "2023-07-14T05:46:13.359039Z",
     "iopub.status.busy": "2023-07-14T05:46:13.358549Z",
     "iopub.status.idle": "2023-07-14T05:46:13.370909Z",
     "shell.execute_reply": "2023-07-14T05:46:13.369391Z"
    },
    "papermill": {
     "duration": 0.027088,
     "end_time": "2023-07-14T05:46:13.373577",
     "exception": false,
     "start_time": "2023-07-14T05:46:13.346489",
     "status": "completed"
    },
    "tags": []
   },
   "outputs": [
    {
     "data": {
      "text/plain": [
       "itching                 0\n",
       "skin_rash               0\n",
       "nodal_skin_eruptions    0\n",
       "continuous_sneezing     0\n",
       "shivering               0\n",
       "                       ..\n",
       "inflammatory_nails      0\n",
       "blister                 0\n",
       "red_sore_around_nose    0\n",
       "yellow_crust_ooze       0\n",
       "prognosis               0\n",
       "Length: 133, dtype: int64"
      ]
     },
     "execution_count": 34,
     "metadata": {},
     "output_type": "execute_result"
    }
   ],
   "source": [
    "test.isna().sum()"
   ]
  },
  {
   "cell_type": "markdown",
   "id": "4785b7dc",
   "metadata": {
    "papermill": {
     "duration": 0.01069,
     "end_time": "2023-07-14T05:46:13.394884",
     "exception": false,
     "start_time": "2023-07-14T05:46:13.384194",
     "status": "completed"
    },
    "tags": []
   },
   "source": [
    "#### SPLITTING DATESET"
   ]
  },
  {
   "cell_type": "code",
   "execution_count": 35,
   "id": "46162217",
   "metadata": {
    "execution": {
     "iopub.execute_input": "2023-07-14T05:46:13.419159Z",
     "iopub.status.busy": "2023-07-14T05:46:13.417906Z",
     "iopub.status.idle": "2023-07-14T05:46:13.434222Z",
     "shell.execute_reply": "2023-07-14T05:46:13.433040Z"
    },
    "papermill": {
     "duration": 0.031216,
     "end_time": "2023-07-14T05:46:13.437239",
     "exception": false,
     "start_time": "2023-07-14T05:46:13.406023",
     "status": "completed"
    },
    "tags": []
   },
   "outputs": [
    {
     "data": {
      "text/plain": [
       "array([1, 1, 1, ..., 1, 1, 1], dtype=int64)"
      ]
     },
     "execution_count": 35,
     "metadata": {},
     "output_type": "execute_result"
    }
   ],
   "source": [
    "P = train[[\"prognosis\"]]\n",
    "X = train.drop([\"prognosis\"],axis=1)\n",
    "Y = test.drop([\"prognosis\"],axis=1)\n",
    "np.ravel(Y)\n"
   ]
  },
  {
   "cell_type": "code",
   "execution_count": 36,
   "id": "3824dc27",
   "metadata": {
    "execution": {
     "iopub.execute_input": "2023-07-14T05:46:13.460588Z",
     "iopub.status.busy": "2023-07-14T05:46:13.460170Z",
     "iopub.status.idle": "2023-07-14T05:46:13.477456Z",
     "shell.execute_reply": "2023-07-14T05:46:13.476238Z"
    },
    "papermill": {
     "duration": 0.032664,
     "end_time": "2023-07-14T05:46:13.480630",
     "exception": false,
     "start_time": "2023-07-14T05:46:13.447966",
     "status": "completed"
    },
    "tags": []
   },
   "outputs": [],
   "source": [
    "from sklearn.model_selection import train_test_split\n",
    "xtrain,xtest,ytrain,ytest = train_test_split(X,P,test_size=0.2,random_state=42)"
   ]
  },
  {
   "cell_type": "markdown",
   "id": "9740e958",
   "metadata": {
    "papermill": {
     "duration": 0.010944,
     "end_time": "2023-07-14T05:46:13.502912",
     "exception": false,
     "start_time": "2023-07-14T05:46:13.491968",
     "status": "completed"
    },
    "tags": []
   },
   "source": [
    "## MODEL - RANDOM FOREST"
   ]
  },
  {
   "cell_type": "code",
   "execution_count": 37,
   "id": "8f8eb40e",
   "metadata": {
    "execution": {
     "iopub.execute_input": "2023-07-14T05:46:13.526216Z",
     "iopub.status.busy": "2023-07-14T05:46:13.525780Z",
     "iopub.status.idle": "2023-07-14T05:46:13.534952Z",
     "shell.execute_reply": "2023-07-14T05:46:13.533646Z"
    },
    "papermill": {
     "duration": 0.024107,
     "end_time": "2023-07-14T05:46:13.537621",
     "exception": false,
     "start_time": "2023-07-14T05:46:13.513514",
     "status": "completed"
    },
    "tags": []
   },
   "outputs": [],
   "source": [
    "from sklearn.ensemble import RandomForestClassifier\n",
    "from sklearn.linear_model import LinearRegression\n",
    "from sklearn.metrics import accuracy_score\n",
    "from sklearn.preprocessing import LabelEncoder\n",
    "\n",
    "# le = LabelEncoder()\n",
    "# train['prognosis']=le.fit_transform(train['prognosis'])\n"
   ]
  },
  {
   "cell_type": "code",
   "execution_count": null,
   "id": "de67af75",
   "metadata": {
    "papermill": {
     "duration": 0.011156,
     "end_time": "2023-07-14T05:46:13.594501",
     "exception": false,
     "start_time": "2023-07-14T05:46:13.583345",
     "status": "completed"
    },
    "tags": []
   },
   "outputs": [],
   "source": []
  },
  {
   "cell_type": "code",
   "execution_count": 38,
   "id": "276d7bea",
   "metadata": {
    "execution": {
     "iopub.execute_input": "2023-07-14T05:43:54.515573Z",
     "iopub.status.busy": "2023-07-14T05:43:54.513986Z",
     "iopub.status.idle": "2023-07-14T05:43:54.949079Z",
     "shell.execute_reply": "2023-07-14T05:43:54.947460Z",
     "shell.execute_reply.started": "2023-07-14T05:43:54.515469Z"
    },
    "papermill": {
     "duration": null,
     "end_time": null,
     "exception": null,
     "start_time": null,
     "status": "pending"
    },
    "tags": []
   },
   "outputs": [
    {
     "name": "stderr",
     "output_type": "stream",
     "text": [
      "C:\\Users\\sri ram karthik\\AppData\\Local\\Temp\\ipykernel_20180\\3693493031.py:5: DataConversionWarning: A column-vector y was passed when a 1d array was expected. Please change the shape of y to (n_samples,), for example using ravel().\n",
      "  model_rf = rf.fit(xtrain,ytrain)\n"
     ]
    },
    {
     "name": "stderr",
     "output_type": "stream",
     "text": [
      "C:\\Users\\sri ram karthik\\anaconda3\\lib\\site-packages\\sklearn\\base.py:420: UserWarning: X does not have valid feature names, but RandomForestClassifier was fitted with feature names\n",
      "  warnings.warn(\n"
     ]
    },
    {
     "data": {
      "text/plain": [
       "['Fungal infection']"
      ]
     },
     "execution_count": 38,
     "metadata": {},
     "output_type": "execute_result"
    }
   ],
   "source": [
    "rf=RandomForestClassifier()\n",
    "np.ravel(Y)\n",
    "np.ravel(ytrain)\n",
    "\n",
    "model_rf = rf.fit(xtrain,ytrain)\n",
    "# print(xtrain)\n",
    "list=[1,1,1,1,1,1]\n",
    "for i in range(126):\n",
    "    list.append(0)\n",
    "# print(list)\n",
    "rd_disease=[]\n",
    "    \n",
    "tr_pred_rf = model_rf.predict([list])\n",
    "rd_disease.append(tr_pred_rf[0])\n",
    "rd_disease\n",
    "\n",
    "\n",
    "# ts_pred_rf = model_rf.predict(xtest)\n",
    "\n",
    "\n",
    "# print(\"training accuracy is:\",accuracy_score(ytrain,tr_pred_rf))\n",
    "# print(\"testing accuracy is:\",accuracy_score(ytest,ts_pred_rf))"
   ]
  },
  {
   "cell_type": "code",
   "execution_count": 39,
   "id": "0881dcd9",
   "metadata": {
    "execution": {
     "iopub.execute_input": "2023-07-14T05:37:41.223189Z",
     "iopub.status.busy": "2023-07-14T05:37:41.222685Z",
     "iopub.status.idle": "2023-07-14T05:37:41.270998Z",
     "shell.execute_reply": "2023-07-14T05:37:41.270019Z",
     "shell.execute_reply.started": "2023-07-14T05:37:41.223151Z"
    },
    "papermill": {
     "duration": null,
     "end_time": null,
     "exception": null,
     "start_time": null,
     "status": "pending"
    },
    "tags": []
   },
   "outputs": [],
   "source": [
    "# dt = DecisionTreeClassifier()\n",
    "# np.ravel(Y)\n",
    "# model_rf = dt.fit(xtrain,ytrain)\n",
    "# # print(xtrain)\n",
    "# list=[1,1,1,1,1,1]\n",
    "# for i in range(126):\n",
    "#     list.append(0)\n",
    "# # print(list)\n",
    "    \n",
    "# tr_pred_rf = model_rf.predict([list])\n",
    "# print(tr_pred_rf)\n",
    "\n"
   ]
  },
  {
   "cell_type": "code",
   "execution_count": 40,
   "id": "7ebd624e",
   "metadata": {
    "execution": {
     "iopub.execute_input": "2023-07-14T05:44:15.022828Z",
     "iopub.status.busy": "2023-07-14T05:44:15.022352Z",
     "iopub.status.idle": "2023-07-14T05:44:15.222602Z",
     "shell.execute_reply": "2023-07-14T05:44:15.221090Z",
     "shell.execute_reply.started": "2023-07-14T05:44:15.022793Z"
    },
    "papermill": {
     "duration": null,
     "end_time": null,
     "exception": null,
     "start_time": null,
     "status": "pending"
    },
    "tags": []
   },
   "outputs": [],
   "source": [
    "# svm_model = SVC()\n",
    "# np.ravel(Y)\n",
    "# svm_model.fit(xtrain, ytrain)\n",
    "# list=[0,0,0,0,0,0]\n",
    "# for i in range(126):\n",
    "#     list.append(1)\n",
    "# svm_pred=svm_model.predict([list])\n",
    "# print(svm_pred)\n"
   ]
  },
  {
   "cell_type": "markdown",
   "id": "f0373094",
   "metadata": {
    "papermill": {
     "duration": null,
     "end_time": null,
     "exception": null,
     "start_time": null,
     "status": "pending"
    },
    "tags": []
   },
   "source": [
    "### PREDICTIONS"
   ]
  },
  {
   "cell_type": "code",
   "execution_count": 41,
   "id": "3102de0d",
   "metadata": {
    "execution": {
     "iopub.execute_input": "2023-07-14T05:28:26.844615Z",
     "iopub.status.busy": "2023-07-14T05:28:26.844127Z",
     "iopub.status.idle": "2023-07-14T05:28:26.878686Z",
     "shell.execute_reply": "2023-07-14T05:28:26.877715Z",
     "shell.execute_reply.started": "2023-07-14T05:28:26.844580Z"
    },
    "papermill": {
     "duration": null,
     "end_time": null,
     "exception": null,
     "start_time": null,
     "status": "pending"
    },
    "tags": []
   },
   "outputs": [],
   "source": [
    "# test.join(pd.DataFrame(model_rf.predict(Y),columns=[\"predicted\"]))[[\"prognosis\",\"predicted\"]]"
   ]
  },
  {
   "cell_type": "code",
   "execution_count": null,
   "id": "f0b2c4ea",
   "metadata": {
    "papermill": {
     "duration": null,
     "end_time": null,
     "exception": null,
     "start_time": null,
     "status": "pending"
    },
    "tags": []
   },
   "outputs": [
    {
     "data": {
      "text/plain": [
       "['model.joblib']"
      ]
     },
     "execution_count": 48,
     "metadata": {},
     "output_type": "execute_result"
    }
   ],
   "source": [
    "filename=\"finalized_model.sav\"\n",
    "joblib.dump(model_rf,filename)\n",
    "\n"
   ]
  },
  {
   "cell_type": "code",
   "execution_count": null,
   "id": "797256fa",
   "metadata": {},
   "outputs": [
    {
     "name": "stdout",
     "output_type": "stream",
     "text": [
      "[1, 1, 1, 1, 1, 1, 0, 0, 0, 0, 0, 0, 0, 0, 0, 0, 0, 0, 0, 0, 0, 0, 0, 0, 0, 0, 0, 0, 0, 0, 0, 0, 0, 0, 0, 0, 0, 0, 0, 0, 0, 0, 0, 0, 0, 0, 0, 0, 0, 0, 0, 0, 0, 0, 0, 0, 0, 0, 0, 0, 0, 0, 0, 0, 0, 0, 0, 0, 0, 0, 0, 0, 0, 0, 0, 0, 0, 0, 0, 0, 0, 0, 0, 0, 0, 0, 0, 0, 0, 0, 0, 0, 0, 0, 0, 0, 0, 0, 0, 0, 0, 0, 0, 0, 0, 0, 0, 0, 0, 0, 0, 0, 0, 0, 0, 0, 0, 0, 0, 0, 0, 0, 0, 0, 0, 0, 0, 0, 0, 0, 0, 0]\n"
     ]
    }
   ],
   "source": [
    "list=[1,1,1,1,1,1]\n",
    "for i in range(126):\n",
    "    list.append(0)\n",
    "print(list)\n"
   ]
  },
  {
   "cell_type": "code",
   "execution_count": 44,
   "id": "9d3591e5",
   "metadata": {},
   "outputs": [
    {
     "ename": "FileNotFoundError",
     "evalue": "[Errno 2] No such file or directory: 'model.pkl'",
     "output_type": "error",
     "traceback": [
      "\u001b[1;31m---------------------------------------------------------------------------\u001b[0m",
      "\u001b[1;31mFileNotFoundError\u001b[0m                         Traceback (most recent call last)",
      "Cell \u001b[1;32mIn[44], line 1\u001b[0m\n\u001b[1;32m----> 1\u001b[0m sample\u001b[39m=\u001b[39mpd\u001b[39m.\u001b[39;49mread_pickle(\u001b[39m'\u001b[39;49m\u001b[39mmodel.pkl\u001b[39;49m\u001b[39m'\u001b[39;49m)\n\u001b[0;32m      2\u001b[0m \u001b[39mprint\u001b[39m(sample)\n",
      "File \u001b[1;32m~\\anaconda3\\lib\\site-packages\\pandas\\io\\pickle.py:190\u001b[0m, in \u001b[0;36mread_pickle\u001b[1;34m(filepath_or_buffer, compression, storage_options)\u001b[0m\n\u001b[0;32m    124\u001b[0m \u001b[39m\"\"\"\u001b[39;00m\n\u001b[0;32m    125\u001b[0m \u001b[39mLoad pickled pandas object (or any object) from file.\u001b[39;00m\n\u001b[0;32m    126\u001b[0m \n\u001b[1;32m   (...)\u001b[0m\n\u001b[0;32m    187\u001b[0m \u001b[39m4    4    9\u001b[39;00m\n\u001b[0;32m    188\u001b[0m \u001b[39m\"\"\"\u001b[39;00m\n\u001b[0;32m    189\u001b[0m excs_to_catch \u001b[39m=\u001b[39m (\u001b[39mAttributeError\u001b[39;00m, \u001b[39mImportError\u001b[39;00m, \u001b[39mModuleNotFoundError\u001b[39;00m, \u001b[39mTypeError\u001b[39;00m)\n\u001b[1;32m--> 190\u001b[0m \u001b[39mwith\u001b[39;00m get_handle(\n\u001b[0;32m    191\u001b[0m     filepath_or_buffer,\n\u001b[0;32m    192\u001b[0m     \u001b[39m\"\u001b[39;49m\u001b[39mrb\u001b[39;49m\u001b[39m\"\u001b[39;49m,\n\u001b[0;32m    193\u001b[0m     compression\u001b[39m=\u001b[39;49mcompression,\n\u001b[0;32m    194\u001b[0m     is_text\u001b[39m=\u001b[39;49m\u001b[39mFalse\u001b[39;49;00m,\n\u001b[0;32m    195\u001b[0m     storage_options\u001b[39m=\u001b[39;49mstorage_options,\n\u001b[0;32m    196\u001b[0m ) \u001b[39mas\u001b[39;00m handles:\n\u001b[0;32m    197\u001b[0m \n\u001b[0;32m    198\u001b[0m     \u001b[39m# 1) try standard library Pickle\u001b[39;00m\n\u001b[0;32m    199\u001b[0m     \u001b[39m# 2) try pickle_compat (older pandas version) to handle subclass changes\u001b[39;00m\n\u001b[0;32m    200\u001b[0m     \u001b[39m# 3) try pickle_compat with latin-1 encoding upon a UnicodeDecodeError\u001b[39;00m\n\u001b[0;32m    202\u001b[0m     \u001b[39mtry\u001b[39;00m:\n\u001b[0;32m    203\u001b[0m         \u001b[39m# TypeError for Cython complaints about object.__new__ vs Tick.__new__\u001b[39;00m\n\u001b[0;32m    204\u001b[0m         \u001b[39mtry\u001b[39;00m:\n",
      "File \u001b[1;32m~\\anaconda3\\lib\\site-packages\\pandas\\io\\common.py:865\u001b[0m, in \u001b[0;36mget_handle\u001b[1;34m(path_or_buf, mode, encoding, compression, memory_map, is_text, errors, storage_options)\u001b[0m\n\u001b[0;32m    856\u001b[0m         handle \u001b[39m=\u001b[39m \u001b[39mopen\u001b[39m(\n\u001b[0;32m    857\u001b[0m             handle,\n\u001b[0;32m    858\u001b[0m             ioargs\u001b[39m.\u001b[39mmode,\n\u001b[1;32m   (...)\u001b[0m\n\u001b[0;32m    861\u001b[0m             newline\u001b[39m=\u001b[39m\u001b[39m\"\u001b[39m\u001b[39m\"\u001b[39m,\n\u001b[0;32m    862\u001b[0m         )\n\u001b[0;32m    863\u001b[0m     \u001b[39melse\u001b[39;00m:\n\u001b[0;32m    864\u001b[0m         \u001b[39m# Binary mode\u001b[39;00m\n\u001b[1;32m--> 865\u001b[0m         handle \u001b[39m=\u001b[39m \u001b[39mopen\u001b[39;49m(handle, ioargs\u001b[39m.\u001b[39;49mmode)\n\u001b[0;32m    866\u001b[0m     handles\u001b[39m.\u001b[39mappend(handle)\n\u001b[0;32m    868\u001b[0m \u001b[39m# Convert BytesIO or file objects passed with an encoding\u001b[39;00m\n",
      "\u001b[1;31mFileNotFoundError\u001b[0m: [Errno 2] No such file or directory: 'model.pkl'"
     ]
    }
   ],
   "source": []
  },
  {
   "cell_type": "code",
   "execution_count": null,
   "id": "060fbee1",
   "metadata": {},
   "outputs": [
    {
     "name": "stdout",
     "output_type": "stream",
     "text": [
      "<class 'numpy.ndarray'>\n"
     ]
    },
    {
     "name": "stderr",
     "output_type": "stream",
     "text": [
      "C:\\Users\\sri ram karthik\\anaconda3\\lib\\site-packages\\sklearn\\base.py:420: UserWarning: X does not have valid feature names, but RandomForestClassifier was fitted with feature names\n",
      "  warnings.warn(\n"
     ]
    }
   ],
   "source": []
  }
 ],
 "metadata": {
  "kernelspec": {
   "display_name": "Python 3 (ipykernel)",
   "language": "python",
   "name": "python3"
  },
  "papermill": {
   "default_parameters": {},
   "duration": 15.670949,
   "end_time": "2023-07-14T05:46:14.627555",
   "environment_variables": {},
   "exception": true,
   "input_path": "__notebook__.ipynb",
   "output_path": "__notebook__.ipynb",
   "parameters": {},
   "start_time": "2023-07-14T05:45:58.956606",
   "version": "2.3.4"
  }
 },
 "nbformat": 4,
 "nbformat_minor": 5
}
